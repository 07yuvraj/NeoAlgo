{
  "nbformat": 4,
  "nbformat_minor": 0,
  "metadata": {
    "kernelspec": {
      "display_name": "Python 3",
      "language": "python",
      "name": "python3"
    },
    "language_info": {
      "codemirror_mode": {
        "name": "ipython",
        "version": 3
      },
      "file_extension": ".py",
      "mimetype": "text/x-python",
      "name": "python",
      "nbconvert_exporter": "python",
      "pygments_lexer": "ipython3",
      "version": "3.6.8"
    },
    "colab": {
      "name": "Siamese Network.ipynb",
      "provenance": []
    },
    "accelerator": "TPU"
  },
  "cells": [
    {
      "cell_type": "markdown",
      "metadata": {
        "id": "obQTlJ_zOZnu",
        "colab_type": "text"
      },
      "source": [
        "# SIAMESE NETWORKS:\n",
        "\n",
        "### Siamese neural networks employ a unique structure to naturally rank similarity between inputs. \n",
        "### For further study and implementation methodology take a look at: https://www.cs.cmu.edu/~rsalakhu/papers/oneshot1.pdf"
      ]
    },
    {
      "cell_type": "markdown",
      "metadata": {
        "id": "DQgcRBwBHJIi",
        "colab_type": "text"
      },
      "source": [
        "# Imports"
      ]
    },
    {
      "cell_type": "code",
      "metadata": {
        "id": "YUZF1LqHHJIi",
        "colab_type": "code",
        "colab": {
          "base_uri": "https://localhost:8080/",
          "height": 34
        },
        "outputId": "9e68e071-e2b1-4e9b-e486-76471ed0b4b1"
      },
      "source": [
        "%matplotlib notebook\n",
        "\n",
        "import tensorflow as tf\n",
        "import matplotlib.pyplot as plt\n",
        "import matplotlib.pyplot as plty\n",
        "import numpy as np\n",
        "import random\n",
        "\n",
        "print('TensorFlow version:', tf.__version__)"
      ],
      "execution_count": 1,
      "outputs": [
        {
          "output_type": "stream",
          "text": [
            "TensorFlow version: 2.2.0\n"
          ],
          "name": "stdout"
        }
      ]
    },
    {
      "cell_type": "markdown",
      "metadata": {
        "id": "uQd1iTYgHJIm",
        "colab_type": "text"
      },
      "source": [
        "# Import MNIST"
      ]
    },
    {
      "cell_type": "code",
      "metadata": {
        "id": "p6wqilozHJIo",
        "colab_type": "code",
        "colab": {
          "base_uri": "https://localhost:8080/",
          "height": 34
        },
        "outputId": "d9120408-8896-49f5-d2ec-4d9c76d8e0b8"
      },
      "source": [
        "(x_train, y_train), (x_test, y_test) = tf.keras.datasets.mnist.load_data()\n",
        "print(x_train.shape)"
      ],
      "execution_count": 2,
      "outputs": [
        {
          "output_type": "stream",
          "text": [
            "(60000, 28, 28)\n"
          ],
          "name": "stdout"
        }
      ]
    },
    {
      "cell_type": "code",
      "metadata": {
        "id": "Okymo8RDHJIx",
        "colab_type": "code",
        "colab": {
          "base_uri": "https://localhost:8080/",
          "height": 34
        },
        "outputId": "200f1a5d-b682-4bf4-931a-355fab8653a3"
      },
      "source": [
        "x_train = np.reshape(x_train, (x_train.shape[0], 784))/255.\n",
        "x_test = np.reshape(x_test, (x_test.shape[0], 784))/255.\n",
        "print(x_train.shape)"
      ],
      "execution_count": 3,
      "outputs": [
        {
          "output_type": "stream",
          "text": [
            "(60000, 784)\n"
          ],
          "name": "stdout"
        }
      ]
    },
    {
      "cell_type": "markdown",
      "metadata": {
        "id": "ODNzwCHuHJI0",
        "colab_type": "text"
      },
      "source": [
        "# Plots"
      ]
    },
    {
      "cell_type": "code",
      "metadata": {
        "id": "ZCOuuD2iHJI1",
        "colab_type": "code",
        "colab": {}
      },
      "source": [
        "def plot_triplets(examples):\n",
        "    plt.figure(figsize=(6, 2))\n",
        "    for i in range(3):\n",
        "        plt.subplot(1, 3, 1 + i)\n",
        "        plt.imshow(np.reshape(examples[i], (28, 28)), cmap='binary')\n",
        "        plt.xticks([])\n",
        "        plt.yticks([])\n",
        "    plt.show()"
      ],
      "execution_count": 4,
      "outputs": []
    },
    {
      "cell_type": "code",
      "metadata": {
        "id": "0YAkrX_QHJI4",
        "colab_type": "code",
        "colab": {
          "base_uri": "https://localhost:8080/",
          "height": 133
        },
        "outputId": "137428e9-1243-418c-b46f-0169dbc5f31f"
      },
      "source": [
        "plot_triplets([x_train[0], x_train[1], x_train[2]])"
      ],
      "execution_count": 5,
      "outputs": [
        {
          "output_type": "display_data",
          "data": {
            "image/png": "[encoded data removed]",
            "text/plain": [
              "<Figure size 432x144 with 3 Axes>"
            ]
          },
          "metadata": {
            "tags": []
          }
        }
      ]
    },
    {
      "cell_type": "markdown",
      "metadata": {
        "id": "h59vMRCCHJI6",
        "colab_type": "text"
      },
      "source": [
        "# Creating Triplets"
      ]
    },
    {
      "cell_type": "code",
      "metadata": {
        "id": "WXAh84VJHJI7",
        "colab_type": "code",
        "colab": {}
      },
      "source": [
        "def create_batch(batch_size=256):\n",
        "    x_anchors = np.zeros((batch_size, 784))\n",
        "    x_positives = np.zeros((batch_size, 784))\n",
        "    x_negatives = np.zeros((batch_size, 784))\n",
        "    \n",
        "    for i in range(0, batch_size):\n",
        "        random_index = random.randint(0, x_train.shape[0] - 1)\n",
        "        x_anchor = x_train[random_index]\n",
        "        y = y_train[random_index]\n",
        "        \n",
        "        indices_for_pos = np.squeeze(np.where(y_train == y))\n",
        "        indices_for_neg = np.squeeze(np.where(y_train != y))\n",
        "        \n",
        "        x_positive = x_train[indices_for_pos[random.randint(0, len(indices_for_pos) - 1)]]\n",
        "        x_negative = x_train[indices_for_neg[random.randint(0, len(indices_for_neg) - 1)]]\n",
        "        \n",
        "        x_anchors[i] = x_anchor\n",
        "        x_positives[i] = x_positive\n",
        "        x_negatives[i] = x_negative\n",
        "        \n",
        "    return [x_anchors, x_positives, x_negatives]"
      ],
      "execution_count": 6,
      "outputs": []
    },
    {
      "cell_type": "code",
      "metadata": {
        "id": "q2Q1vZ5gHJJA",
        "colab_type": "code",
        "colab": {
          "base_uri": "https://localhost:8080/",
          "height": 133
        },
        "outputId": "75c903f6-6693-468c-c555-f9152a99a3be"
      },
      "source": [
        "examples = create_batch(1)\n",
        "plot_triplets(examples)"
      ],
      "execution_count": 7,
      "outputs": [
        {
          "output_type": "display_data",
          "data": {
            "image/png": "[encoded data removed]",
            "text/plain": [
              "<Figure size 432x144 with 3 Axes>"
            ]
          },
          "metadata": {
            "tags": []
          }
        }
      ]
    },
    {
      "cell_type": "markdown",
      "metadata": {
        "id": "kLDOmwzHHJJD",
        "colab_type": "text"
      },
      "source": [
        "# Embedding"
      ]
    },
    {
      "cell_type": "code",
      "metadata": {
        "id": "Irw_IYfoHJJE",
        "colab_type": "code",
        "colab": {
          "base_uri": "https://localhost:8080/",
          "height": 218
        },
        "outputId": "b791caf2-2254-4d22-98ff-fe53c5136170"
      },
      "source": [
        "emb_size = 64\n",
        "\n",
        "embedding_model = tf.keras.models.Sequential([\n",
        "    tf.keras.layers.Dense(64, activation='relu', input_shape=(784,)),\n",
        "    tf.keras.layers.Dense(emb_size, activation='sigmoid')\n",
        "])\n",
        "\n",
        "embedding_model.summary()"
      ],
      "execution_count": 8,
      "outputs": [
        {
          "output_type": "stream",
          "text": [
            "Model: \"sequential\"\n",
            "_________________________________________________________________\n",
            "Layer (type)                 Output Shape              Param #   \n",
            "=================================================================\n",
            "dense (Dense)                (None, 64)                50240     \n",
            "_________________________________________________________________\n",
            "dense_1 (Dense)              (None, 64)                4160      \n",
            "=================================================================\n",
            "Total params: 54,400\n",
            "Trainable params: 54,400\n",
            "Non-trainable params: 0\n",
            "_________________________________________________________________\n"
          ],
          "name": "stdout"
        }
      ]
    },
    {
      "cell_type": "code",
      "metadata": {
        "id": "Q8Ojk1DoHJJG",
        "colab_type": "code",
        "colab": {
          "base_uri": "https://localhost:8080/",
          "height": 202
        },
        "outputId": "33a978ab-e4ed-4e86-97c1-b354d1ded0ff"
      },
      "source": [
        "example = np.expand_dims(x_train[0], axis=0)\n",
        "example_emb = embedding_model.predict(example)[0]\n",
        "\n",
        "print(example_emb)"
      ],
      "execution_count": 9,
      "outputs": [
        {
          "output_type": "stream",
          "text": [
            "[0.536669   0.48090205 0.4957411  0.54562294 0.5311687  0.53926945\n",
            " 0.50446266 0.6034832  0.37867573 0.41682917 0.47507757 0.5187528\n",
            " 0.638879   0.66840506 0.57640177 0.559947   0.38344762 0.5237603\n",
            " 0.36517605 0.4356984  0.55865395 0.53897643 0.55822074 0.45194232\n",
            " 0.526935   0.48665205 0.47119734 0.60339475 0.32592475 0.5789573\n",
            " 0.5539861  0.54174393 0.5681293  0.5530574  0.5479011  0.52146256\n",
            " 0.5435761  0.5174296  0.4589314  0.5111605  0.56552696 0.4445244\n",
            " 0.58246434 0.5575921  0.52006125 0.64702314 0.5747978  0.5017479\n",
            " 0.5000459  0.59686625 0.48429888 0.5340881  0.5272159  0.39763904\n",
            " 0.546043   0.5143377  0.46748027 0.41818446 0.53157735 0.36536908\n",
            " 0.6057421  0.5005526  0.45429873 0.5316582 ]\n"
          ],
          "name": "stdout"
        }
      ]
    },
    {
      "cell_type": "markdown",
      "metadata": {
        "id": "FgxeeJG4HJJJ",
        "colab_type": "text"
      },
      "source": [
        "# Siamese Network"
      ]
    },
    {
      "cell_type": "code",
      "metadata": {
        "id": "JqTtKy-iHJJJ",
        "colab_type": "code",
        "colab": {
          "base_uri": "https://localhost:8080/",
          "height": 386
        },
        "outputId": "16734b4b-406c-4e6b-97c6-3cbadd082edf"
      },
      "source": [
        "input_anchor = tf.keras.layers.Input(shape=(784,))\n",
        "input_positive = tf.keras.layers.Input(shape=(784,))\n",
        "input_negative = tf.keras.layers.Input(shape=(784,))\n",
        "\n",
        "embedding_anchor = embedding_model(input_anchor)\n",
        "embedding_positive = embedding_model(input_positive)\n",
        "embedding_negative = embedding_model(input_negative)\n",
        "\n",
        "output = tf.keras.layers.concatenate([embedding_anchor, embedding_positive, embedding_negative], axis=1)\n",
        "\n",
        "net = tf.keras.models.Model([input_anchor, input_positive, input_negative], output)\n",
        "net.summary()"
      ],
      "execution_count": 10,
      "outputs": [
        {
          "output_type": "stream",
          "text": [
            "Model: \"model\"\n",
            "__________________________________________________________________________________________________\n",
            "Layer (type)                    Output Shape         Param #     Connected to                     \n",
            "==================================================================================================\n",
            "input_1 (InputLayer)            [(None, 784)]        0                                            \n",
            "__________________________________________________________________________________________________\n",
            "input_2 (InputLayer)            [(None, 784)]        0                                            \n",
            "__________________________________________________________________________________________________\n",
            "input_3 (InputLayer)            [(None, 784)]        0                                            \n",
            "__________________________________________________________________________________________________\n",
            "sequential (Sequential)         (None, 64)           54400       input_1[0][0]                    \n",
            "                                                                 input_2[0][0]                    \n",
            "                                                                 input_3[0][0]                    \n",
            "__________________________________________________________________________________________________\n",
            "concatenate (Concatenate)       (None, 192)          0           sequential[1][0]                 \n",
            "                                                                 sequential[2][0]                 \n",
            "                                                                 sequential[3][0]                 \n",
            "==================================================================================================\n",
            "Total params: 54,400\n",
            "Trainable params: 54,400\n",
            "Non-trainable params: 0\n",
            "__________________________________________________________________________________________________\n"
          ],
          "name": "stdout"
        }
      ]
    },
    {
      "cell_type": "markdown",
      "metadata": {
        "id": "q7cA4JCsHJJM",
        "colab_type": "text"
      },
      "source": [
        "# Own Loss - Triplet"
      ]
    },
    {
      "cell_type": "code",
      "metadata": {
        "id": "lECXYRcKHJJN",
        "colab_type": "code",
        "colab": {}
      },
      "source": [
        "alpha = 0.2\n",
        "\n",
        "def triplet_loss(y_true, y_pred):\n",
        "    anchor, positive, negative = y_pred[:,:emb_size], y_pred[:,emb_size:2*emb_size], y_pred[:,2*emb_size:]\n",
        "    positive_dist = tf.reduce_mean(tf.square(anchor - positive), axis=1)\n",
        "    negative_dist = tf.reduce_mean(tf.square(anchor - negative), axis=1)\n",
        "    return tf.maximum(positive_dist - negative_dist + alpha, 0.)"
      ],
      "execution_count": 11,
      "outputs": []
    },
    {
      "cell_type": "markdown",
      "metadata": {
        "id": "RflHYkDjHJJT",
        "colab_type": "text"
      },
      "source": [
        "# Data Generator"
      ]
    },
    {
      "cell_type": "code",
      "metadata": {
        "id": "8J2ho1dJHJJT",
        "colab_type": "code",
        "colab": {}
      },
      "source": [
        "def data_generator(batch_size=256):\n",
        "    while True:\n",
        "        x = create_batch(batch_size)\n",
        "        y = np.zeros((batch_size, 3*emb_size))\n",
        "        yield x, y"
      ],
      "execution_count": 12,
      "outputs": []
    },
    {
      "cell_type": "markdown",
      "metadata": {
        "id": "3rly2jhNHJJW",
        "colab_type": "text"
      },
      "source": [
        "# Model"
      ]
    },
    {
      "cell_type": "code",
      "metadata": {
        "id": "IPFKGWytHJJW",
        "colab_type": "code",
        "colab": {
          "base_uri": "https://localhost:8080/",
          "height": 353
        },
        "outputId": "cab608c2-6272-40ab-c138-db0b00291bb8"
      },
      "source": [
        "batch_size = 2048\n",
        "epochs = 10\n",
        "steps_per_epoch = int(x_train.shape[0]/batch_size)\n",
        "\n",
        "net.compile(loss=triplet_loss, optimizer='adam')\n",
        "\n",
        "history = net.fit(\n",
        "    data_generator(batch_size),\n",
        "    steps_per_epoch=steps_per_epoch,\n",
        "    epochs=epochs, verbose=True,\n",
        ")"
      ],
      "execution_count": 13,
      "outputs": [
        {
          "output_type": "stream",
          "text": [
            "Epoch 1/10\n",
            "29/29 [==============================] - 22s 764ms/step - loss: 0.1611\n",
            "Epoch 2/10\n",
            "29/29 [==============================] - 22s 755ms/step - loss: 0.0754\n",
            "Epoch 3/10\n",
            "29/29 [==============================] - 22s 756ms/step - loss: 0.0551\n",
            "Epoch 4/10\n",
            "29/29 [==============================] - 22s 761ms/step - loss: 0.0471\n",
            "Epoch 5/10\n",
            "29/29 [==============================] - 22s 757ms/step - loss: 0.0428\n",
            "Epoch 6/10\n",
            "29/29 [==============================] - 22s 762ms/step - loss: 0.0389\n",
            "Epoch 7/10\n",
            "29/29 [==============================] - 22s 759ms/step - loss: 0.0352\n",
            "Epoch 8/10\n",
            "29/29 [==============================] - 22s 761ms/step - loss: 0.0326\n",
            "Epoch 9/10\n",
            "29/29 [==============================] - 22s 764ms/step - loss: 0.0311\n",
            "Epoch 10/10\n",
            "29/29 [==============================] - 22s 758ms/step - loss: 0.0287\n"
          ],
          "name": "stdout"
        }
      ]
    },
    {
      "cell_type": "markdown",
      "metadata": {
        "id": "fA0tuh04OAGR",
        "colab_type": "text"
      },
      "source": [
        "# PLOTTING RESULTS"
      ]
    },
    {
      "cell_type": "code",
      "metadata": {
        "id": "aCMGCMYqHJJY",
        "colab_type": "code",
        "colab": {
          "base_uri": "https://localhost:8080/",
          "height": 282
        },
        "outputId": "03845dd5-bcae-4fb6-c4c3-35932b3a42b3"
      },
      "source": [
        "plt.plot(history.history['loss'])"
      ],
      "execution_count": 14,
      "outputs": [
        {
          "output_type": "execute_result",
          "data": {
            "text/plain": [
              "[<matplotlib.lines.Line2D at 0x7f4020219518>]"
            ]
          },
          "metadata": {
            "tags": []
          },
          "execution_count": 14
        },
        {
          "output_type": "display_data",
          "data": {
            "image/png": "[encoded data removed]",
            "text/plain": [
              "<Figure size 432x288 with 1 Axes>"
            ]
          },
          "metadata": {
            "tags": [],
            "needs_background": "light"
          }
        }
      ]
    },
    {
      "cell_type": "code",
      "metadata": {
        "id": "BfixsVYVOQn4",
        "colab_type": "code",
        "colab": {}
      },
      "source": [
        ""
      ],
      "execution_count": null,
      "outputs": []
    }
  ]
}